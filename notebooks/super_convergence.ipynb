{
 "cells": [
  {
   "cell_type": "code",
   "execution_count": 1,
   "metadata": {},
   "outputs": [],
   "source": [
    "import sys\n",
    "sys.path.insert(0, '../src/')\n",
    "\n",
    "import torch\n",
    "from torch.utils.data import DataLoader\n",
    "from torch.nn import CrossEntropyLoss\n",
    "from torch.optim import SGD\n",
    "import torch.backends.cudnn as cudnn\n",
    "from torch.autograd import Variable\n",
    "\n",
    "import torchvision\n",
    "import torchvision.transforms as transforms\n",
    "\n",
    "import resnet\n",
    "from train_utils import train_model, one_cycle\n",
    "from plots import plot_learning_curves, plot_lr_finder, plot_learning_rates, plot_momentums\n",
    "\n",
    "import time\n",
    "\n",
    "import matplotlib.pyplot as plt\n",
    "%matplotlib inline"
   ]
  },
  {
   "cell_type": "code",
   "execution_count": 2,
   "metadata": {},
   "outputs": [],
   "source": [
    "cudnn.benchmark = True"
   ]
  },
  {
   "cell_type": "markdown",
   "metadata": {},
   "source": [
    "# Super convergence\n",
    "\n",
    "## Load the datasets"
   ]
  },
  {
   "cell_type": "code",
   "execution_count": 3,
   "metadata": {},
   "outputs": [],
   "source": [
    "transform_train = transforms.Compose([\n",
    "    transforms.ToTensor(),\n",
    "    transforms.Normalize((0.4914, 0.4822, 0.4465), (0.2023, 0.1994, 0.2010)),\n",
    "])\n",
    "\n",
    "transform_test = transforms.Compose([\n",
    "    transforms.ToTensor(),\n",
    "    transforms.Normalize((0.4914, 0.4822, 0.4465), (0.2023, 0.1994, 0.2010)),\n",
    "])"
   ]
  },
  {
   "cell_type": "code",
   "execution_count": 4,
   "metadata": {},
   "outputs": [
    {
     "name": "stdout",
     "output_type": "stream",
     "text": [
      "Files already downloaded and verified\n",
      "Files already downloaded and verified\n"
     ]
    }
   ],
   "source": [
    "trainset = torchvision.datasets.CIFAR10(root='./data', train=True, download=True, transform=transform_train)\n",
    "testset = torchvision.datasets.CIFAR10(root='./data', train=False, download=True, transform=transform_test)"
   ]
  },
  {
   "cell_type": "code",
   "execution_count": 5,
   "metadata": {},
   "outputs": [
    {
     "data": {
      "text/plain": [
       "((50000, 32, 32, 3), 50000)"
      ]
     },
     "execution_count": 5,
     "metadata": {},
     "output_type": "execute_result"
    }
   ],
   "source": [
    "trainset.train_data.shape, len(trainset.train_labels)"
   ]
  },
  {
   "cell_type": "code",
   "execution_count": 6,
   "metadata": {},
   "outputs": [],
   "source": [
    "trainloader = DataLoader(trainset, batch_size=128, shuffle=True, num_workers=2)\n",
    "testloader = DataLoader(testset, batch_size=128, shuffle=True, num_workers=2)"
   ]
  },
  {
   "cell_type": "code",
   "execution_count": 7,
   "metadata": {},
   "outputs": [],
   "source": [
    "dset_loaders = {'train': trainloader, 'val': testloader}\n",
    "dset_sizes = {'train': len(trainset.train_labels), 'val': len(testset.test_labels)}"
   ]
  },
  {
   "cell_type": "code",
   "execution_count": 8,
   "metadata": {},
   "outputs": [],
   "source": [
    "classes = ['plane', 'car', 'bird', 'cat', 'deer', 'dog', 'frog', 'horse', 'ship', 'truck']"
   ]
  },
  {
   "cell_type": "markdown",
   "metadata": {},
   "source": [
    "## Defining the model"
   ]
  },
  {
   "cell_type": "code",
   "execution_count": 9,
   "metadata": {},
   "outputs": [],
   "source": [
    "model = resnet.ResNet18()\n",
    "\n",
    "if torch.cuda.is_available():\n",
    "    model.cuda()"
   ]
  },
  {
   "cell_type": "code",
   "execution_count": 10,
   "metadata": {},
   "outputs": [],
   "source": [
    "criterion = CrossEntropyLoss()\n",
    "optimizer = SGD(model.parameters(), lr=0.001, momentum=0, weight_decay=5e-4)"
   ]
  },
  {
   "cell_type": "markdown",
   "metadata": {},
   "source": [
    "## Building the 1-cycle optimizer"
   ]
  },
  {
   "cell_type": "code",
   "execution_count": 13,
   "metadata": {},
   "outputs": [
    {
     "name": "stdout",
     "output_type": "stream",
     "text": [
      "##### Computing upcycle phase #####\n",
      "\n",
      "Epoch 1/40\n",
      "----------\n",
      "train loss: 0.0111, acc: 0.4758\n",
      "val loss: 0.0094, acc: 0.5908\n",
      "\n",
      "Epoch 2/40\n",
      "----------\n",
      "train loss: 0.0071, acc: 0.6808\n",
      "val loss: 0.0064, acc: 0.7218\n",
      "\n",
      "Epoch 3/40\n",
      "----------\n",
      "train loss: 0.0055, acc: 0.7568\n",
      "val loss: 0.0060, acc: 0.7412\n",
      "\n",
      "Epoch 4/40\n",
      "----------\n",
      "train loss: 0.0049, acc: 0.7836\n",
      "val loss: 0.0054, acc: 0.7586\n",
      "\n",
      "Epoch 5/40\n",
      "----------\n",
      "train loss: 0.0045, acc: 0.8001\n",
      "val loss: 0.0064, acc: 0.7281\n",
      "\n",
      "Epoch 6/40\n",
      "----------\n",
      "train loss: 0.0045, acc: 0.8056\n",
      "val loss: 0.0078, acc: 0.6608\n",
      "\n",
      "Epoch 7/40\n",
      "----------\n",
      "train loss: 0.0045, acc: 0.8021\n",
      "val loss: 0.0060, acc: 0.7479\n",
      "\n",
      "Epoch 8/40\n",
      "----------\n",
      "train loss: 0.0045, acc: 0.8033\n",
      "val loss: 0.0077, acc: 0.6823\n",
      "\n",
      "Epoch 9/40\n",
      "----------\n",
      "train loss: 0.0046, acc: 0.7999\n",
      "val loss: 0.0081, acc: 0.6831\n",
      "\n",
      "Epoch 10/40\n",
      "----------\n",
      "train loss: 0.0047, acc: 0.7931\n",
      "val loss: 0.0092, acc: 0.5912\n",
      "\n",
      "Epoch 11/40\n",
      "----------\n",
      "train loss: 0.0047, acc: 0.7946\n",
      "val loss: 0.0070, acc: 0.7055\n",
      "\n",
      "Epoch 12/40\n",
      "----------\n",
      "train loss: 0.0048, acc: 0.7915\n",
      "val loss: 0.0068, acc: 0.7022\n",
      "\n",
      "Epoch 13/40\n",
      "----------\n",
      "train loss: 0.0049, acc: 0.7854\n",
      "val loss: 0.0133, acc: 0.5146\n",
      "\n",
      "Epoch 14/40\n",
      "----------\n",
      "train loss: 0.0049, acc: 0.7853\n",
      "val loss: 0.0071, acc: 0.7047\n",
      "\n",
      "Epoch 15/40\n",
      "----------\n",
      "train loss: 0.0050, acc: 0.7817\n",
      "val loss: 0.0065, acc: 0.7318\n",
      "\n",
      "Epoch 16/40\n",
      "----------\n",
      "train loss: 0.0052, acc: 0.7740\n",
      "val loss: 0.0122, acc: 0.5994\n",
      "\n",
      "Epoch 17/40\n",
      "----------\n",
      "train loss: 0.0052, acc: 0.7701\n",
      "val loss: 0.0132, acc: 0.5383\n",
      "\n",
      "Epoch 18/40\n",
      "----------\n",
      "train loss: 0.0052, acc: 0.7724\n",
      "val loss: 0.0073, acc: 0.6948\n",
      "\n",
      "Epoch 19/40\n",
      "----------\n",
      "train loss: 0.0053, acc: 0.7705\n",
      "val loss: 0.0133, acc: 0.5439\n",
      "\n",
      "Epoch 20/40\n",
      "----------\n",
      "train loss: 0.0055, acc: 0.7600\n",
      "val loss: 0.0084, acc: 0.6447\n",
      "\n",
      "Epoch 21/40\n",
      "----------\n",
      "train loss: 0.0054, acc: 0.7671\n",
      "val loss: 0.0131, acc: 0.5415\n",
      "\n",
      "Epoch 22/40\n",
      "----------\n",
      "train loss: 0.0055, acc: 0.7636\n",
      "val loss: 0.0086, acc: 0.6395\n",
      "\n",
      "Epoch 23/40\n",
      "----------\n",
      "train loss: 0.0056, acc: 0.7564\n",
      "val loss: 0.0077, acc: 0.6790\n",
      "\n",
      "Epoch 24/40\n",
      "----------\n",
      "train loss: 0.0057, acc: 0.7541\n",
      "val loss: 0.0128, acc: 0.5449\n",
      "\n",
      "Epoch 25/40\n",
      "----------\n",
      "train loss: 0.0056, acc: 0.7599\n",
      "val loss: 0.0085, acc: 0.6414\n",
      "\n",
      "Epoch 26/40\n",
      "----------\n",
      "train loss: 0.0057, acc: 0.7539\n",
      "val loss: 0.0084, acc: 0.6547\n",
      "\n",
      "Epoch 27/40\n",
      "----------\n",
      "train loss: 0.0057, acc: 0.7526\n",
      "val loss: 0.0111, acc: 0.6089\n",
      "\n",
      "Epoch 28/40\n",
      "----------\n",
      "train loss: 0.0059, acc: 0.7453\n",
      "val loss: 0.0116, acc: 0.5453\n",
      "\n",
      "Epoch 29/40\n",
      "----------\n",
      "train loss: 0.0058, acc: 0.7492\n",
      "val loss: 0.0116, acc: 0.5628\n",
      "\n",
      "Epoch 30/40\n",
      "----------\n",
      "train loss: 0.0059, acc: 0.7463\n",
      "val loss: 0.0090, acc: 0.6251\n",
      "\n",
      "Epoch 31/40\n",
      "----------\n",
      "train loss: 0.0060, acc: 0.7406\n",
      "val loss: 0.0088, acc: 0.6245\n",
      "\n",
      "Epoch 32/40\n",
      "----------\n",
      "train loss: 0.0059, acc: 0.7446\n",
      "val loss: 0.0078, acc: 0.6578\n",
      "\n",
      "Epoch 33/40\n",
      "----------\n",
      "train loss: 0.0059, acc: 0.7426\n",
      "val loss: 0.0099, acc: 0.5886\n",
      "\n",
      "Epoch 34/40\n",
      "----------\n",
      "train loss: 0.0060, acc: 0.7393\n",
      "val loss: 0.0086, acc: 0.6663\n",
      "\n",
      "Epoch 35/40\n",
      "----------\n",
      "train loss: 0.0060, acc: 0.7384\n",
      "val loss: 0.0135, acc: 0.5877\n",
      "\n",
      "Epoch 36/40\n",
      "----------\n",
      "train loss: 0.0060, acc: 0.7400\n",
      "val loss: 0.0091, acc: 0.6171\n",
      "\n",
      "Epoch 37/40\n",
      "----------\n",
      "train loss: 0.0060, acc: 0.7393\n",
      "val loss: 0.0086, acc: 0.6225\n",
      "\n",
      "Epoch 38/40\n",
      "----------\n",
      "train loss: 0.0060, acc: 0.7399\n",
      "val loss: 0.0086, acc: 0.6308\n",
      "\n",
      "Epoch 39/40\n",
      "----------\n",
      "train loss: 0.0061, acc: 0.7352\n",
      "val loss: 0.0109, acc: 0.5571\n",
      "\n",
      "Epoch 40/40\n",
      "----------\n",
      "train loss: 0.0061, acc: 0.7322\n",
      "val loss: 0.0101, acc: 0.5595\n",
      "\n",
      "Training complete in 50m 46s\n",
      "\n",
      "##### Computing downcycle phase #####\n",
      "\n",
      "Epoch 1/40\n",
      "----------\n",
      "train loss: 0.0062, acc: 0.7307\n",
      "val loss: 0.0100, acc: 0.6047\n",
      "\n",
      "Epoch 2/40\n",
      "----------\n",
      "train loss: 0.0061, acc: 0.7329\n",
      "val loss: 0.0100, acc: 0.5789\n",
      "\n",
      "Epoch 3/40\n",
      "----------\n",
      "train loss: 0.0061, acc: 0.7354\n",
      "val loss: 0.0082, acc: 0.6462\n",
      "\n",
      "Epoch 4/40\n",
      "----------\n",
      "train loss: 0.0060, acc: 0.7374\n",
      "val loss: 0.0080, acc: 0.6578\n",
      "\n",
      "Epoch 5/40\n",
      "----------\n",
      "train loss: 0.0060, acc: 0.7370\n",
      "val loss: 0.0124, acc: 0.5256\n",
      "\n",
      "Epoch 6/40\n",
      "----------\n",
      "train loss: 0.0060, acc: 0.7377\n",
      "val loss: 0.0132, acc: 0.4849\n",
      "\n",
      "Epoch 7/40\n",
      "----------\n",
      "train loss: 0.0060, acc: 0.7420\n",
      "val loss: 0.0101, acc: 0.5558\n",
      "\n",
      "Epoch 8/40\n",
      "----------\n",
      "train loss: 0.0059, acc: 0.7443\n",
      "val loss: 0.0093, acc: 0.6285\n",
      "\n",
      "Epoch 9/40\n",
      "----------\n",
      "train loss: 0.0060, acc: 0.7383\n",
      "val loss: 0.0113, acc: 0.5580\n",
      "\n",
      "Epoch 10/40\n",
      "----------\n",
      "train loss: 0.0058, acc: 0.7458\n",
      "val loss: 0.0135, acc: 0.5224\n",
      "\n",
      "Epoch 11/40\n",
      "----------\n",
      "train loss: 0.0059, acc: 0.7442\n",
      "val loss: 0.0123, acc: 0.5574\n",
      "\n",
      "Epoch 12/40\n",
      "----------\n",
      "train loss: 0.0058, acc: 0.7461\n",
      "val loss: 0.0080, acc: 0.6703\n",
      "\n",
      "Epoch 13/40\n",
      "----------\n",
      "train loss: 0.0057, acc: 0.7502\n",
      "val loss: 0.0131, acc: 0.5105\n",
      "\n",
      "Epoch 14/40\n",
      "----------\n",
      "train loss: 0.0058, acc: 0.7487\n",
      "val loss: 0.0176, acc: 0.4026\n",
      "\n",
      "Epoch 15/40\n",
      "----------\n",
      "train loss: 0.0057, acc: 0.7510\n",
      "val loss: 0.0132, acc: 0.5359\n",
      "\n",
      "Epoch 16/40\n",
      "----------\n",
      "train loss: 0.0057, acc: 0.7529\n",
      "val loss: 0.0072, acc: 0.6903\n",
      "\n",
      "Epoch 17/40\n",
      "----------\n",
      "train loss: 0.0056, acc: 0.7572\n",
      "val loss: 0.0106, acc: 0.5453\n",
      "\n",
      "Epoch 18/40\n",
      "----------\n",
      "train loss: 0.0055, acc: 0.7586\n",
      "val loss: 0.0153, acc: 0.5083\n",
      "\n",
      "Epoch 19/40\n",
      "----------\n",
      "train loss: 0.0056, acc: 0.7556\n",
      "val loss: 0.0091, acc: 0.5932\n",
      "\n",
      "Epoch 20/40\n",
      "----------\n",
      "train loss: 0.0054, acc: 0.7630\n",
      "val loss: 0.0075, acc: 0.6837\n",
      "\n",
      "Epoch 21/40\n",
      "----------\n",
      "train loss: 0.0054, acc: 0.7657\n",
      "val loss: 0.0083, acc: 0.6714\n",
      "\n",
      "Epoch 22/40\n",
      "----------\n",
      "train loss: 0.0054, acc: 0.7669\n",
      "val loss: 0.0120, acc: 0.5275\n",
      "\n",
      "Epoch 23/40\n",
      "----------\n",
      "train loss: 0.0052, acc: 0.7702\n",
      "val loss: 0.0078, acc: 0.6675\n",
      "\n",
      "Epoch 24/40\n",
      "----------\n",
      "train loss: 0.0052, acc: 0.7746\n",
      "val loss: 0.0188, acc: 0.3553\n",
      "\n",
      "Epoch 25/40\n",
      "----------\n",
      "train loss: 0.0051, acc: 0.7757\n",
      "val loss: 0.0079, acc: 0.6681\n",
      "\n",
      "Epoch 26/40\n",
      "----------\n",
      "train loss: 0.0050, acc: 0.7800\n",
      "val loss: 0.0085, acc: 0.6329\n",
      "\n",
      "Epoch 27/40\n",
      "----------\n",
      "train loss: 0.0049, acc: 0.7886\n",
      "val loss: 0.0066, acc: 0.7195\n",
      "\n",
      "Epoch 28/40\n",
      "----------\n",
      "train loss: 0.0048, acc: 0.7895\n",
      "val loss: 0.0171, acc: 0.4687\n",
      "\n",
      "Epoch 29/40\n",
      "----------\n",
      "train loss: 0.0047, acc: 0.7942\n",
      "val loss: 0.0075, acc: 0.6692\n",
      "\n",
      "Epoch 30/40\n",
      "----------\n",
      "train loss: 0.0046, acc: 0.7997\n",
      "val loss: 0.0071, acc: 0.7119\n",
      "\n",
      "Epoch 31/40\n",
      "----------\n",
      "train loss: 0.0045, acc: 0.8048\n",
      "val loss: 0.0080, acc: 0.6748\n",
      "\n",
      "Epoch 32/40\n",
      "----------\n",
      "train loss: 0.0042, acc: 0.8161\n",
      "val loss: 0.0092, acc: 0.6247\n",
      "\n",
      "Epoch 33/40\n",
      "----------\n",
      "train loss: 0.0041, acc: 0.8201\n",
      "val loss: 0.0060, acc: 0.7430\n",
      "\n",
      "Epoch 34/40\n",
      "----------\n",
      "train loss: 0.0038, acc: 0.8318\n",
      "val loss: 0.0058, acc: 0.7477\n",
      "\n",
      "Epoch 35/40\n",
      "----------\n",
      "train loss: 0.0036, acc: 0.8422\n",
      "val loss: 0.0061, acc: 0.7475\n",
      "\n",
      "Epoch 36/40\n",
      "----------\n",
      "train loss: 0.0033, acc: 0.8532\n",
      "val loss: 0.0057, acc: 0.7611\n",
      "\n",
      "Epoch 37/40\n",
      "----------\n",
      "train loss: 0.0029, acc: 0.8749\n",
      "val loss: 0.0061, acc: 0.7456\n",
      "\n",
      "Epoch 38/40\n",
      "----------\n",
      "train loss: 0.0024, acc: 0.8938\n",
      "val loss: 0.0046, acc: 0.8093\n",
      "\n",
      "Epoch 39/40\n",
      "----------\n",
      "train loss: 0.0016, acc: 0.9306\n",
      "val loss: 0.0040, acc: 0.8409\n",
      "\n",
      "Epoch 40/40\n",
      "----------\n",
      "train loss: 0.0006, acc: 0.9760\n",
      "val loss: 0.0034, acc: 0.8693\n",
      "\n",
      "Training complete in 51m 14s\n",
      "\n",
      "##### Computing annealing phase #####\n",
      "\n",
      "Epoch 1/9\n",
      "----------\n",
      "train loss: 0.0001, acc: 0.9973\n",
      "val loss: 0.0034, acc: 0.8745\n",
      "\n",
      "Epoch 2/9\n",
      "----------\n",
      "train loss: 0.0001, acc: 0.9996\n",
      "val loss: 0.0035, acc: 0.8769\n",
      "\n",
      "Epoch 3/9\n",
      "----------\n",
      "train loss: 0.0000, acc: 0.9999\n",
      "val loss: 0.0035, acc: 0.8786\n",
      "\n",
      "Epoch 4/9\n",
      "----------\n",
      "train loss: 0.0000, acc: 1.0000\n",
      "val loss: 0.0035, acc: 0.8794\n",
      "\n",
      "Epoch 5/9\n",
      "----------\n",
      "train loss: 0.0000, acc: 1.0000\n",
      "val loss: 0.0035, acc: 0.8794\n",
      "\n",
      "Epoch 6/9\n",
      "----------\n",
      "train loss: 0.0000, acc: 1.0000\n",
      "val loss: 0.0035, acc: 0.8793\n",
      "\n",
      "Epoch 7/9\n",
      "----------\n",
      "train loss: 0.0000, acc: 1.0000\n",
      "val loss: 0.0035, acc: 0.8792\n",
      "\n",
      "Epoch 8/9\n",
      "----------\n",
      "train loss: 0.0000, acc: 1.0000\n",
      "val loss: 0.0035, acc: 0.8782\n",
      "\n",
      "Epoch 9/9\n",
      "----------\n",
      "train loss: 0.0000, acc: 1.0000\n",
      "val loss: 0.0035, acc: 0.8786\n",
      "\n",
      "Training complete in 11m 31s\n",
      "\n",
      "All three phases done. Concatenating data.\n"
     ]
    }
   ],
   "source": [
    "curves = one_cycle(model, dset_loaders, dset_sizes, criterion, optimizer, epochs=90, \\\n",
    "                   lr_min=0.01, lr_max=1, mom_min=0.85, mom_max=0.95, annealing_pct=0.1)"
   ]
  },
  {
   "cell_type": "markdown",
   "metadata": {},
   "source": [
    "## Plotting the learning curves"
   ]
  },
  {
   "cell_type": "code",
   "execution_count": 14,
   "metadata": {},
   "outputs": [
    {
     "data": {
      "image/png": "[encoded data removed]",
      "text/plain": [
       "<matplotlib.figure.Figure at 0x7f2ff3d9f390>"
      ]
     },
     "metadata": {},
     "output_type": "display_data"
    },
    {
     "data": {
      "image/png": "[encoded data removed]",
      "text/plain": [
       "<matplotlib.figure.Figure at 0x7f2ff3da5b38>"
      ]
     },
     "metadata": {},
     "output_type": "display_data"
    }
   ],
   "source": [
    "plot_learning_curves(curves[0], curves[1], curves[2], curves[3])"
   ]
  },
  {
   "cell_type": "code",
   "execution_count": 22,
   "metadata": {},
   "outputs": [
    {
     "name": "stdout",
     "output_type": "stream",
     "text": [
      "train loss: 2.208340527955443e-05, val loss: 0.0034724787771701813, train acc: 1.0, val_acc:0.8786\n"
     ]
    }
   ],
   "source": [
    "print('train loss: {}, val loss: {}, train acc: {}, val_acc:{}'.format(curves[0][-1], \n",
    "                                                                       curves[1][-1], \n",
    "                                                                       curves[2][-1], \n",
    "                                                                       curves[3][-1]))"
   ]
  },
  {
   "cell_type": "code",
   "execution_count": 20,
   "metadata": {},
   "outputs": [
    {
     "data": {
      "text/plain": [
       "Text(0,0.5,'Learning rate')"
      ]
     },
     "execution_count": 20,
     "metadata": {},
     "output_type": "execute_result"
    },
    {
     "data": {
      "image/png": "[encoded data removed]",
      "text/plain": [
       "<matplotlib.figure.Figure at 0x7f2fd8c95630>"
      ]
     },
     "metadata": {},
     "output_type": "display_data"
    }
   ],
   "source": [
    "plot_learning_rates(curves[4])"
   ]
  },
  {
   "cell_type": "code",
   "execution_count": 17,
   "metadata": {},
   "outputs": [
    {
     "data": {
      "text/plain": [
       "Text(0,0.5,'Momentum')"
      ]
     },
     "execution_count": 17,
     "metadata": {},
     "output_type": "execute_result"
    },
    {
     "data": {
      "image/png": "[encoded data removed]",
      "text/plain": [
       "<matplotlib.figure.Figure at 0x7f2fd8e62128>"
      ]
     },
     "metadata": {},
     "output_type": "display_data"
    }
   ],
   "source": [
    "plot_momentums(curves[5])"
   ]
  },
  {
   "cell_type": "code",
   "execution_count": null,
   "metadata": {},
   "outputs": [],
   "source": []
  }
 ],
 "metadata": {
  "kernelspec": {
   "display_name": "Python 3",
   "language": "python",
   "name": "python3"
  },
  "language_info": {
   "codemirror_mode": {
    "name": "ipython",
    "version": 3
   },
   "file_extension": ".py",
   "mimetype": "text/x-python",
   "name": "python",
   "nbconvert_exporter": "python",
   "pygments_lexer": "ipython3",
   "version": "3.6.3"
  }
 },
 "nbformat": 4,
 "nbformat_minor": 2
}
